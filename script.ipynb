{
 "cells": [
  {
   "cell_type": "code",
   "execution_count": null,
   "metadata": {},
   "outputs": [],
   "source": [
    "# Mount Google Drive\n",
    "from google.colab import drive\n",
    "drive.mount('/content/drive')\n"
   ]
  },
  {
   "cell_type": "code",
   "execution_count": null,
   "metadata": {},
   "outputs": [],
   "source": [
    "# Define the path to your zipped file\n",
    "filePath = '/content/drive/MyDrive/path_to_your_zipped_file.zip'  # Update this path\n",
    "\n",
    "# Define the extraction directory\n",
    "extractionPath = '/content/drive/MyDrive/extracted_files/'  # Update this path\n",
    "\n",
    "# Unzip the file\n",
    "import zipfile\n",
    "import os\n",
    "\n",
    "# Create the extraction directory if it does not exist\n",
    "os.makedirs(extractionPath, exist_ok=True)\n",
    "\n",
    "# Unzipping the file\n",
    "with zipfile.ZipFile(filePath, 'r') as zipRef:\n",
    "    zipRef.extractall(extractionPath)\n",
    "\n",
    "print('Files are extracted to:', extractionPath)\n"
   ]
  }
 ],
 "metadata": {
  "language_info": {
   "name": "python"
  }
 },
 "nbformat": 4,
 "nbformat_minor": 2
}
