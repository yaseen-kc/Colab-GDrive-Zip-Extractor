{
 "cells": [
  {
   "cell_type": "code",
   "execution_count": null,
   "metadata": {},
   "outputs": [],
   "source": [
    "# Mount Google Drive\n",
    "from google.colab import drive\n",
    "drive.mount('/content/drive')\n"
   ]
  },
  {
   "cell_type": "code",
   "execution_count": null,
   "metadata": {},
   "outputs": [],
   "source": [
    "# Define the path to your zipped file\n",
    "zip_file_path = '/content/drive/MyDrive/path_to_your_zipped_file.zip'  # Update this path\n",
    "\n",
    "# Define the extraction directory\n",
    "extraction_path = '/content/drive/MyDrive/extracted_files/'  # Update this path\n",
    "\n",
    "# Unzip the file\n",
    "import zipfile\n",
    "import os\n",
    "\n",
    "# Create the extraction directory if it does not exist\n",
    "os.makedirs(extraction_path, exist_ok=True)\n",
    "\n",
    "# Unzipping the file\n",
    "with zipfile.ZipFile(zip_file_path, 'r') as zip_ref:\n",
    "    zip_ref.extractall(extraction_path)\n",
    "\n",
    "print('Unzipping complete. Files are extracted to:', extraction_path)\n"
   ]
  }
 ],
 "metadata": {
  "language_info": {
   "name": "python"
  }
 },
 "nbformat": 4,
 "nbformat_minor": 2
}
